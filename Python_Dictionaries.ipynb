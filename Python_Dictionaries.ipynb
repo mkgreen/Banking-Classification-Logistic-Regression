{
  "nbformat": 4,
  "nbformat_minor": 0,
  "metadata": {
    "colab": {
      "provenance": [],
      "authorship_tag": "ABX9TyPtOXzQglloCaxJ7SS1xZ0K",
      "include_colab_link": true
    },
    "kernelspec": {
      "name": "python3",
      "display_name": "Python 3"
    },
    "language_info": {
      "name": "python"
    }
  },
  "cells": [
    {
      "cell_type": "markdown",
      "metadata": {
        "id": "view-in-github",
        "colab_type": "text"
      },
      "source": [
        "<a href=\"https://colab.research.google.com/github/mkgreen/Banking-Classification-Logistic-Regression/blob/main/Python_Dictionaries.ipynb\" target=\"_parent\"><img src=\"https://colab.research.google.com/assets/colab-badge.svg\" alt=\"Open In Colab\"/></a>"
      ]
    },
    {
      "cell_type": "markdown",
      "source": [
        "What are Dictionaries?\n",
        "- a dictionary is a collection which is:\n",
        "    - unordered\n",
        "    - changeable and\n",
        "    - indexed\n",
        "- in Python, dictionares are written with curly brackets\n",
        "  - inside, they have keys-value pairs\n",
        "  "
      ],
      "metadata": {
        "id": "aHcUKkgwVw1t"
      }
    },
    {
      "cell_type": "code",
      "execution_count": null,
      "metadata": {
        "colab": {
          "base_uri": "https://localhost:8080/"
        },
        "id": "kgH39MBaVptB",
        "outputId": "ed08bddb-09b5-4c65-d6e2-8b8aead8992e"
      },
      "outputs": [
        {
          "output_type": "stream",
          "name": "stdout",
          "text": [
            "{'brand': 'Ford', 'model': 'Mustang', 'year': 1964}\n"
          ]
        }
      ],
      "source": [
        "# create dictionary\n",
        "car_info_dict = {\n",
        "    \"brand\": \"Ford\", # key-value pair #1\n",
        "    \"model\": \"Mustang\", # key-value pair #2\n",
        "    \"year\": 1964 # key-value pair #3\n",
        "}\n",
        "\n",
        "#print dictionary\n",
        "print(car_info_dict)"
      ]
    },
    {
      "cell_type": "code",
      "source": [
        "# check type\n",
        "type(car_info_dict)"
      ],
      "metadata": {
        "colab": {
          "base_uri": "https://localhost:8080/"
        },
        "id": "_dqq_hI_Wk6T",
        "outputId": "51f1c4c5-6e50-48cb-98ca-d032c2f39e22"
      },
      "execution_count": null,
      "outputs": [
        {
          "output_type": "execute_result",
          "data": {
            "text/plain": [
              "dict"
            ]
          },
          "metadata": {},
          "execution_count": 2
        }
      ]
    },
    {
      "cell_type": "markdown",
      "source": [
        "\"dict()\" Constructor"
      ],
      "metadata": {
        "id": "DizkAhBBWstr"
      }
    },
    {
      "cell_type": "code",
      "source": [
        "# use a 'dict()' constructor\n",
        "car_model_info = dict(brand=\"Tesla\", model=\"Model 3\", year=\"2017\")\n",
        "\n",
        "#print the dictionary\n",
        "print(car_model_info)"
      ],
      "metadata": {
        "colab": {
          "base_uri": "https://localhost:8080/"
        },
        "id": "Lg0adiFSWqrL",
        "outputId": "618f182b-a30c-4de4-d365-003ad180cc04"
      },
      "execution_count": null,
      "outputs": [
        {
          "output_type": "stream",
          "name": "stdout",
          "text": [
            "{'brand': 'Tesla', 'model': 'Model 3', 'year': '2017'}\n"
          ]
        }
      ]
    },
    {
      "cell_type": "markdown",
      "source": [
        "Accessing Values\n",
        "- access the values of a dictionary by referring to its key name inside square brackets:"
      ],
      "metadata": {
        "id": "ckaCOmMUXFm0"
      }
    },
    {
      "cell_type": "code",
      "source": [
        "# get the value of the \"model\" key\n",
        "model_value = car_info_dict[\"model\"]\n",
        "\n",
        "# print the value\n",
        "print(model_value)"
      ],
      "metadata": {
        "colab": {
          "base_uri": "https://localhost:8080/"
        },
        "id": "zeJsqDlcXDuY",
        "outputId": "d410b3ac-2c7e-4084-f499-ce8b259794b5"
      },
      "execution_count": null,
      "outputs": [
        {
          "output_type": "stream",
          "name": "stdout",
          "text": [
            "Mustang\n"
          ]
        }
      ]
    },
    {
      "cell_type": "markdown",
      "source": [
        "\".get()\" to get values"
      ],
      "metadata": {
        "id": "YT-tuAhUXbo8"
      }
    },
    {
      "cell_type": "code",
      "source": [
        "# get the value of the \"model\" key using '.get()'\n",
        "model_value = car_info_dict.get(\"model\")\n",
        "\n",
        "#print the value\n",
        "print(model_value)"
      ],
      "metadata": {
        "colab": {
          "base_uri": "https://localhost:8080/"
        },
        "id": "vEpo4hGKXZXM",
        "outputId": "1f1ff356-0ac8-4315-a39b-b580d74c5838"
      },
      "execution_count": null,
      "outputs": [
        {
          "output_type": "stream",
          "name": "stdout",
          "text": [
            "Mustang\n"
          ]
        }
      ]
    },
    {
      "cell_type": "markdown",
      "source": [
        "Change Values"
      ],
      "metadata": {
        "id": "yanjLIjrXu4k"
      }
    },
    {
      "cell_type": "code",
      "source": [
        "# create dictionary\n",
        "car_info_dict = {\n",
        "    \"brand\": \"Ford\", #key-value pair #1\n",
        "    \"model\": \"Mustang\", #key-value pair #2\n",
        "    \"year\": 1964 #key-value pair #3\n",
        "}\n",
        "\n",
        "# check the dictionary\n",
        "print(car_info_dict)\n",
        "\n",
        "#change the value for the year\n",
        "car_info_dict[\"year\"] = 2018\n",
        "\n",
        "# check the dictionary\n",
        "print(car_info_dict)"
      ],
      "metadata": {
        "colab": {
          "base_uri": "https://localhost:8080/"
        },
        "id": "cePBAth6Xs84",
        "outputId": "61ab53c0-7515-4de7-82d6-34461fc9123d"
      },
      "execution_count": null,
      "outputs": [
        {
          "output_type": "stream",
          "name": "stdout",
          "text": [
            "{'brand': 'Ford', 'model': 'Mustang', 'year': 1964}\n",
            "{'brand': 'Ford', 'model': 'Mustang', 'year': 2018}\n"
          ]
        }
      ]
    },
    {
      "cell_type": "markdown",
      "source": [
        "Loop through a Dictionary\n",
        "- loop through a dictionary byy using a \"for\" loop\n",
        "\n",
        "Print all critical names in the dictionary, one by one"
      ],
      "metadata": {
        "id": "WaQZQX4PYm6r"
      }
    },
    {
      "cell_type": "code",
      "source": [
        "# print only the keys of the dictionary\n",
        "for entry in car_info_dict:\n",
        "  print(entry)"
      ],
      "metadata": {
        "colab": {
          "base_uri": "https://localhost:8080/"
        },
        "id": "oiJ-hI-zYiMs",
        "outputId": "15eaab8e-99aa-4704-efd5-fdc693363194"
      },
      "execution_count": null,
      "outputs": [
        {
          "output_type": "stream",
          "name": "stdout",
          "text": [
            "brand\n",
            "model\n",
            "year\n"
          ]
        }
      ]
    },
    {
      "cell_type": "markdown",
      "source": [
        "Print all the values in the dictionary, one by one"
      ],
      "metadata": {
        "id": "8_x4LyIKY7vT"
      }
    },
    {
      "cell_type": "code",
      "source": [
        "# print only the values of the keys of the dictionary\n",
        "for entry in car_info_dict:\n",
        "  print(car_info_dict[entry])"
      ],
      "metadata": {
        "colab": {
          "base_uri": "https://localhost:8080/"
        },
        "id": "0_LNCIIjY3xb",
        "outputId": "91f9711b-ba39-45b2-8463-a0b58e4792aa"
      },
      "execution_count": null,
      "outputs": [
        {
          "output_type": "stream",
          "name": "stdout",
          "text": [
            "Ford\n",
            "Mustang\n",
            "2018\n"
          ]
        }
      ]
    },
    {
      "cell_type": "markdown",
      "source": [
        "Use the \".values()\" method to return values of a dictionary"
      ],
      "metadata": {
        "id": "ntI25DzlZOPz"
      }
    },
    {
      "cell_type": "code",
      "source": [
        "for entry in car_info_dict.values():\n",
        "  print(entry)"
      ],
      "metadata": {
        "colab": {
          "base_uri": "https://localhost:8080/"
        },
        "id": "RFpARaWwZJaZ",
        "outputId": "fe1ef999-4529-4b2a-9505-ab1dc85b534c"
      },
      "execution_count": null,
      "outputs": [
        {
          "output_type": "stream",
          "name": "stdout",
          "text": [
            "Ford\n",
            "Mustang\n",
            "2018\n"
          ]
        }
      ]
    },
    {
      "cell_type": "markdown",
      "source": [
        "Loop through both keys and values, by using the \".items()\" method:"
      ],
      "metadata": {
        "id": "1wWOCs9aZZVC"
      }
    },
    {
      "cell_type": "code",
      "source": [
        "for key,value in car_info_dict.items():\n",
        "  print(key,value)"
      ],
      "metadata": {
        "colab": {
          "base_uri": "https://localhost:8080/"
        },
        "id": "B6JMOAh5ZYKB",
        "outputId": "dca241c1-e3ee-4f81-a517-69345f634bc9"
      },
      "execution_count": null,
      "outputs": [
        {
          "output_type": "stream",
          "name": "stdout",
          "text": [
            "brand Ford\n",
            "model Mustang\n",
            "year 2018\n"
          ]
        }
      ]
    },
    {
      "cell_type": "markdown",
      "source": [
        "Check if the Key Exists\n",
        "- to determine if a specified key is present in a dictionary use the \"in\" keyword"
      ],
      "metadata": {
        "id": "etDS-bSLZqva"
      }
    },
    {
      "cell_type": "code",
      "source": [
        "# create dictionary\n",
        "car_info_dict = {\n",
        "    \"brand\": \"Ford\", # key-value pair #1\n",
        "    \"model\": \"Mustang\", #key-value pair #2\n",
        "    \"year\": 1964 #key-value pair #3\n",
        "}\n",
        "\n",
        "#check if the brand key exists\n",
        "if \"brand\" in car_info_dict:\n",
        "  print(\"Brand info is available.\")"
      ],
      "metadata": {
        "colab": {
          "base_uri": "https://localhost:8080/"
        },
        "id": "ch-uOppkZkwI",
        "outputId": "c0dfd7f6-6e3d-448e-f1f1-d03a9bfd9834"
      },
      "execution_count": null,
      "outputs": [
        {
          "output_type": "stream",
          "name": "stdout",
          "text": [
            "Brand info is available.\n"
          ]
        }
      ]
    },
    {
      "cell_type": "markdown",
      "source": [
        "Dictionary Length\n",
        "- to determine how many items (key-value pairs) a dictionary has, use the \"len()\" function"
      ],
      "metadata": {
        "id": "vW6Z3FcOaQSk"
      }
    },
    {
      "cell_type": "code",
      "source": [
        "# create dicitonary\n",
        "car_info_dict = {\n",
        "    \"brand\": \"Ford\", # key-value pair #1\n",
        "    \"model\": \"Mustang\", # key-value pair #2\n",
        "    \"year\": 1964 # key-value pair #3\n",
        "}\n",
        "\n",
        "# get the length of the dictionary\n",
        "print(len(car_info_dict))"
      ],
      "metadata": {
        "colab": {
          "base_uri": "https://localhost:8080/"
        },
        "id": "QHtbY7QFaL41",
        "outputId": "8e733df5-74a8-46c2-9799-3db5ec274e40"
      },
      "execution_count": null,
      "outputs": [
        {
          "output_type": "stream",
          "name": "stdout",
          "text": [
            "3\n"
          ]
        }
      ]
    },
    {
      "cell_type": "markdown",
      "source": [
        "Adding Items\n",
        "- adding an item to the dictionary is done by using a new index key and assinging a value to it"
      ],
      "metadata": {
        "id": "4qV_ECewb6rX"
      }
    },
    {
      "cell_type": "code",
      "source": [
        "# create dictionary\n",
        "car_info_dict = {\n",
        "    \"brand\": \"Ford\", # key-value pair #1\n",
        "    \"model\": \"Mustang\", # key-value pair #2\n",
        "    \"year\": 1964 # key-value pair #3\n",
        "}\n",
        "\n",
        "#check the dictionary\n",
        "print(car_info_dict)\n",
        "\n",
        "#add color entry into car_info_dict dictionary\n",
        "car_info_dict[\"color\"] = \"green\"\n",
        "\n",
        "# check the updated dictionary\n",
        "print(car_info_dict)"
      ],
      "metadata": {
        "colab": {
          "base_uri": "https://localhost:8080/"
        },
        "id": "exKYGeEXb5Kx",
        "outputId": "ce871ebf-f15f-4b3a-91e1-9c918773eca2"
      },
      "execution_count": null,
      "outputs": [
        {
          "output_type": "stream",
          "name": "stdout",
          "text": [
            "{'brand': 'Ford', 'model': 'Mustang', 'year': 1964}\n",
            "{'brand': 'Ford', 'model': 'Mustang', 'year': 1964, 'color': 'green'}\n"
          ]
        }
      ]
    },
    {
      "cell_type": "markdown",
      "source": [
        "Removing Items \n",
        "- there are several methods to remove items from a dictionary\n",
        "\n",
        "\".pop()\" method"
      ],
      "metadata": {
        "id": "kbC-CCFgctlY"
      }
    },
    {
      "cell_type": "code",
      "source": [
        "# initialize dictionary \n",
        "car_model_info = {\n",
        "                  \"brand\":\"Tesla\",\n",
        "                  \"model\":\"Model 3\", \n",
        "                  \"year\":\"2017\"\n",
        "                  }\n",
        "\n",
        "#print car model dictionary\n",
        "print(car_model_info)\n",
        "\n",
        "#remove the item with the specified key name\n",
        "car_model_info.pop(\"model\")\n",
        "\n",
        "#print car model dictionary after pop\n",
        "print(car_model_info)"
      ],
      "metadata": {
        "colab": {
          "base_uri": "https://localhost:8080/"
        },
        "id": "By4CvliCcdOY",
        "outputId": "5bf6d885-0be1-4f82-f54d-883ad510465f"
      },
      "execution_count": null,
      "outputs": [
        {
          "output_type": "stream",
          "name": "stdout",
          "text": [
            "{'brand': 'Tesla', 'model': 'Model 3', 'year': '2017'}\n",
            "{'brand': 'Tesla', 'year': '2017'}\n"
          ]
        }
      ]
    },
    {
      "cell_type": "markdown",
      "source": [
        "\".popitem()\" method\n",
        "\n",
        "- removes the last inserted item \n",
        "  - in versions before Python 3.7, a random item is removed instead"
      ],
      "metadata": {
        "id": "xwoAo5NERxu_"
      }
    },
    {
      "cell_type": "code",
      "source": [
        "#initialize dictionary\n",
        "car_model_info = {\n",
        "    \"brand\":\"Tesla\",\n",
        "    \"model\":\"Model 3\",\n",
        "    \"year\":\"2017\"\n",
        "}\n",
        "\n",
        "# print car model dictionary\n",
        "print(car_model_info)\n",
        "\n",
        "#remove dictionary last added entry with popitem()\n",
        "car_model_info.popitem()\n",
        "\n",
        "#print car model dictionary after removing last added item\n",
        "print(car_model_info)"
      ],
      "metadata": {
        "id": "KkChI0vUc_b7",
        "colab": {
          "base_uri": "https://localhost:8080/"
        },
        "outputId": "16335d42-3ce3-4135-c72b-4e707e165fff"
      },
      "execution_count": 1,
      "outputs": [
        {
          "output_type": "stream",
          "name": "stdout",
          "text": [
            "{'brand': 'Tesla', 'model': 'Model 3', 'year': '2017'}\n",
            "{'brand': 'Tesla', 'model': 'Model 3'}\n"
          ]
        }
      ]
    },
    {
      "cell_type": "markdown",
      "source": [
        "\"del\" method\n",
        "\n",
        "- removes the item with the specified key name"
      ],
      "metadata": {
        "id": "2YLVYoqgSnYT"
      }
    },
    {
      "cell_type": "code",
      "source": [
        "# initialize dictionary\n",
        "car_model_info = {\n",
        "    \"brand\":\"Tesla\",\n",
        "    \"model\":\"Model 3\",\n",
        "    \"year\":\"2017\"\n",
        "}\n",
        "\n",
        "# print car model dictionary\n",
        "print(car_model_info)\n",
        "\n",
        "# remove entry with specified key name using del command\n",
        "del car_model_info[\"model\"]\n",
        "\n",
        "# print car model dictionary after del command\n",
        "print(car_model_info)"
      ],
      "metadata": {
        "colab": {
          "base_uri": "https://localhost:8080/"
        },
        "id": "N6OYsmFESgaz",
        "outputId": "bdf54158-b3db-4496-a3b1-3877b87e5c90"
      },
      "execution_count": 2,
      "outputs": [
        {
          "output_type": "stream",
          "name": "stdout",
          "text": [
            "{'brand': 'Tesla', 'model': 'Model 3', 'year': '2017'}\n",
            "{'brand': 'Tesla', 'year': '2017'}\n"
          ]
        }
      ]
    },
    {
      "cell_type": "markdown",
      "source": [
        "copy a dictionary\n",
        "\n",
        "- you cannot copy a dictionary simply by typing dict2 = dict1, because:\n",
        "  - dict2 will only be a reference to dict1\n",
        "  - this way, changes made in dict1 will automatically also be made in dict2\n",
        "\n",
        "- there are ways to make a copy of a dictionary\n",
        "\n",
        "\".copy()\" method:"
      ],
      "metadata": {
        "id": "BsJoAA-0TSaj"
      }
    },
    {
      "cell_type": "code",
      "source": [
        "# initialize dictionary\n",
        "car_model_info = {\n",
        "    \"brand\":\"Tesla\",\n",
        "    \"model\":\"Model 3\",\n",
        "    \"year\":\"2017\"\n",
        "}\n",
        "\n",
        "#print car model dictionary\n",
        "print(car_model_info)\n",
        "\n",
        "#copy car model info into a new dictionary using .copy()\n",
        "new_car_model_info = car_model_info.copy()\n",
        "\n",
        "# print new car model dictionary after copy\n",
        "print(new_car_model_info)"
      ],
      "metadata": {
        "colab": {
          "base_uri": "https://localhost:8080/"
        },
        "id": "4_yb-d9sTL2o",
        "outputId": "98ecb0df-b10d-40e1-d9b3-1b4fb878b6e4"
      },
      "execution_count": 4,
      "outputs": [
        {
          "output_type": "stream",
          "name": "stdout",
          "text": [
            "{'brand': 'Tesla', 'model': 'Model 3', 'year': '2017'}\n",
            "{'brand': 'Tesla', 'model': 'Model 3', 'year': '2017'}\n"
          ]
        }
      ]
    },
    {
      "cell_type": "markdown",
      "source": [
        "\"dict()\" constructor method:"
      ],
      "metadata": {
        "id": "E3rWDXqJUN-2"
      }
    },
    {
      "cell_type": "code",
      "source": [
        "# initialize dictionary\n",
        "car_model_info = {\n",
        "    \"brand\":\"Tesla\",\n",
        "    \"model\":\"Model 3\",\n",
        "    \"year\":\"2017\"\n",
        "}\n",
        "\n",
        "# print car model dictionary\n",
        "print(car_model_info)\n",
        "\n",
        "#copy car model info into a new dictionary using dict()\n",
        "new_car_model_info = dict(car_model_info)\n",
        "\n",
        "# print new car model dictionary after copy\n",
        "print(new_car_model_info)"
      ],
      "metadata": {
        "colab": {
          "base_uri": "https://localhost:8080/"
        },
        "id": "pExk6TlbUE2G",
        "outputId": "c7240111-361e-4ce7-fe48-f27553f71b83"
      },
      "execution_count": 5,
      "outputs": [
        {
          "output_type": "stream",
          "name": "stdout",
          "text": [
            "{'brand': 'Tesla', 'model': 'Model 3', 'year': '2017'}\n",
            "{'brand': 'Tesla', 'model': 'Model 3', 'year': '2017'}\n"
          ]
        }
      ]
    },
    {
      "cell_type": "markdown",
      "source": [
        "Nested Dictionaries\n",
        "\n",
        "- a dictionary can also contain many dictionaries, this is called nested dictionaries"
      ],
      "metadata": {
        "id": "a0Jo-7PwVmqq"
      }
    },
    {
      "cell_type": "code",
      "source": [
        "#create a nested dictionary\n",
        "family = {\n",
        "    \"child1\": {\n",
        "        \"name\": \"Emil\",\n",
        "        \"year\": 2004\n",
        "    },\n",
        "    \"child2\": {\n",
        "        \"name\": \"Tobias\",\n",
        "        \"year\": 2007\n",
        "    }\n",
        "}\n",
        "\n",
        "#print the family dictionary\n",
        "print(family)"
      ],
      "metadata": {
        "colab": {
          "base_uri": "https://localhost:8080/"
        },
        "id": "W0NLlfmUVkoQ",
        "outputId": "f8b2fd1e-88af-45be-a735-b8ce83ed05d2"
      },
      "execution_count": 6,
      "outputs": [
        {
          "output_type": "stream",
          "name": "stdout",
          "text": [
            "{'child1': {'name': 'Emil', 'year': 2004}, 'child2': {'name': 'Tobias', 'year': 2007}}\n"
          ]
        }
      ]
    },
    {
      "cell_type": "markdown",
      "source": [
        "- another way is to create three dictionaries separately\n",
        "- then create one dictionary that will contain the other three dictionaries"
      ],
      "metadata": {
        "id": "2qEmLjAkWKzz"
      }
    },
    {
      "cell_type": "code",
      "source": [
        "# create three separate dictionaries\n",
        "child1 = {\n",
        "    \"name\": \"Emil\",\n",
        "    \"year\": 2004\n",
        "}\n",
        "child2 = {\n",
        "    \"name\": \"Tobias\",\n",
        "    \"year\": 2007\n",
        "}\n",
        "child3 = {\n",
        "    \"name\": \"Linus\",\n",
        "    \"year\": 2011\n",
        "}\n",
        "\n",
        "# create parent dictionary\n",
        "family = {\n",
        "    \"child1\" : child1,\n",
        "    \"child2\" : child2,\n",
        "    \"child3\" : child3\n",
        "}\n",
        "\n",
        "# print the parent dictionary\n",
        "print(family)"
      ],
      "metadata": {
        "colab": {
          "base_uri": "https://localhost:8080/"
        },
        "id": "-O6ZO62UWHW-",
        "outputId": "2e67aabd-0d78-4b54-efcc-51b5d4fe4e0d"
      },
      "execution_count": 7,
      "outputs": [
        {
          "output_type": "stream",
          "name": "stdout",
          "text": [
            "{'child1': {'name': 'Emil', 'year': 2004}, 'child2': {'name': 'Tobias', 'year': 2007}, 'child3': {'name': 'Linus', 'year': 2011}}\n"
          ]
        }
      ]
    }
  ]
}